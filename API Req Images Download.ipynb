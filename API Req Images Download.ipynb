{
 "cells": [
  {
   "cell_type": "code",
   "execution_count": 1,
   "id": "8d434320",
   "metadata": {},
   "outputs": [],
   "source": [
    "# Librerie\n",
    "import os\n",
    "import json\n",
    "import time\n",
    "import requests"
   ]
  },
  {
   "cell_type": "code",
   "execution_count": 2,
   "id": "22de77a5",
   "metadata": {},
   "outputs": [],
   "source": [
    "# URL per la request\n",
    "url = \"https://api.reverb.com/api/listings\""
   ]
  },
  {
   "cell_type": "code",
   "execution_count": 3,
   "id": "08c966c1",
   "metadata": {},
   "outputs": [],
   "source": [
    "# Headers per la request\n",
    "headers = {\"Accept-Version\": \"3.0\"}"
   ]
  },
  {
   "cell_type": "code",
   "execution_count": 4,
   "id": "13068cc7",
   "metadata": {},
   "outputs": [],
   "source": [
    "# Modelli di chitarra di mio interesse (classi)\n",
    "guitar_models = [\"stratocaster\", \"telecaster\", \"les paul\", \"explorer\", \"flying\", \"sg\", \"jazzmaster\"]"
   ]
  },
  {
   "cell_type": "code",
   "execution_count": 5,
   "id": "be6b7b7a",
   "metadata": {},
   "outputs": [],
   "source": [
    "# Parametri\n",
    "pic_index = 0        # Per numerare le immagini scaricate   \n",
    "saved_pics = 0       # Contatore di immagini scaricate per classe\n",
    "wanted_pics = 400    # Numero di immagini desiderate per classe\n",
    "pages = 1000         # Numero massimo di pagine da analizzare\n",
    "per_page = 10        # Numero di risultati desiderati per pagina"
   ]
  },
  {
   "cell_type": "code",
   "execution_count": null,
   "id": "d2d1d5eb",
   "metadata": {},
   "outputs": [],
   "source": [
    "# Recupero delle immagini\n",
    "\n",
    "for model in guitar_models:\n",
    "    \n",
    "    for i in range(pages):\n",
    "        \n",
    "        # Cartella che conterrà le immagini\n",
    "        folder_path = \"C:/Users/antonio.guadagno_qua/Desktop/Chitarre/\" + model\n",
    "        \n",
    "        # Request\n",
    "        query_params = {\"query\": model, \"per_page\": per_page, \"page\":i}        \n",
    "        response = requests.get(url, params=query_params, headers=headers)\n",
    "        data = json.loads(response.text)\n",
    "        \n",
    "        time.sleep(1)\n",
    "        \n",
    "        for item in data[\"listings\"]:\n",
    "            \n",
    "            if item[\"make\"] == \"Fender\" and (saved_pics < wanted_pics):\n",
    "                \n",
    "                if not os.path.exists(folder_path):\n",
    "                    os.makedirs(folder_path)\n",
    "                \n",
    "                pic_url = item[\"photos\"][0][\"_links\"][\"full\"][\"href\"]\n",
    "                pic = requests.get(pic_url)\n",
    "                \n",
    "                # Download della foto\n",
    "                with open(os.path.join(folder_path, 'photo' + str(pic_index) + '.jpg'), 'wb') as f:\n",
    "                    f.write(pic.content)\n",
    "\n",
    "                pic_index = pic_index + 1\n",
    "                saved_pics = saved_pics + 1\n",
    "\n",
    "            if item[\"make\"] == \"Gibson\" and (saved_pics < wanted_pics):\n",
    "                \n",
    "                if not os.path.exists(folder_path):\n",
    "                    os.makedirs(folder_path)\n",
    "                \n",
    "                pic_url = item[\"photos\"][0][\"_links\"][\"full\"][\"href\"]\n",
    "                pic = requests.get(pic_url)\n",
    "                \n",
    "                # Download della foto\n",
    "                with open(os.path.join(folder_path, 'photo' + str(pic_index) + '.jpg'), 'wb') as f:\n",
    "                    f.write(pic.content)\n",
    "\n",
    "                pic_index = pic_index + 1\n",
    "                saved_pics = saved_pics + 1\n",
    "    \n",
    "        if saved_pics == wanted_pics:\n",
    "            break\n",
    "            \n",
    "    saved_pics = 0\n",
    "        "
   ]
  }
 ],
 "metadata": {
  "kernelspec": {
   "display_name": "Python 3 (ipykernel)",
   "language": "python",
   "name": "python3"
  },
  "language_info": {
   "codemirror_mode": {
    "name": "ipython",
    "version": 3
   },
   "file_extension": ".py",
   "mimetype": "text/x-python",
   "name": "python",
   "nbconvert_exporter": "python",
   "pygments_lexer": "ipython3",
   "version": "3.9.13"
  }
 },
 "nbformat": 4,
 "nbformat_minor": 5
}
